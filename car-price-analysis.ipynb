{
 "cells": [
  {
   "cell_type": "markdown",
   "metadata": {},
   "source": [
    "# What drives the price of a car?\n",
    "\n",
    "![](images/kurt.jpeg)"
   ]
  },
  {
   "cell_type": "markdown",
   "metadata": {},
   "source": [
    "**OVERVIEW**\n",
    "\n",
    "In this application, you will explore a dataset from kaggle. The original dataset contained information on 3 million used cars. The provided dataset contains information on 426K cars to ensure speed of processing.  Your goal is to understand what factors make a car more or less expensive.  As a result of your analysis, you should provide clear recommendations to your client -- a used car dealership -- as to what consumers value in a used car."
   ]
  },
  {
   "cell_type": "markdown",
   "metadata": {},
   "source": [
    "### CRISP-DM Framework\n",
    "\n",
    "<center>\n",
    "    <img src = images/crisp.png width = 50%/>\n",
    "</center>\n",
    "\n",
    "\n",
    "To frame the task, throughout our practical applications we will refer back to a standard process in industry for data projects called CRISP-DM.  This process provides a framework for working through a data problem.  Your first step in this application will be to read through a brief overview of CRISP-DM [here](https://mo-pcco.s3.us-east-1.amazonaws.com/BH-PCMLAI/module_11/readings_starter.zip).  After reading the overview, answer the questions below."
   ]
  },
  {
   "cell_type": "markdown",
   "metadata": {},
   "source": [
    "### Business Understanding\n",
    "\n",
    "From a business perspective, we are tasked with identifying key drivers for used car prices.  In the CRISP-DM overview, we are asked to convert this business framing to a data problem definition.  Using a few sentences, reframe the task as a data task with the appropriate technical vocabulary. "
   ]
  },
  {
   "cell_type": "markdown",
   "metadata": {},
   "source": [
    "#### Problem Definition:\n",
    "The goal is to determine which features correlate more to user car prices. To achieve this, we will build a used car price prediction model and evaluate each feature afterwards, using permutation importance."
   ]
  },
  {
   "cell_type": "markdown",
   "metadata": {},
   "source": [
    "### Data Understanding\n",
    "\n",
    "After considering the business understanding, we want to get familiar with our data.  Write down some steps that you would take to get to know the dataset and identify any quality issues within.  Take time to get to know the dataset and explore what information it contains and how this could be used to inform your business understanding."
   ]
  },
  {
   "cell_type": "code",
   "execution_count": 7,
   "metadata": {},
   "outputs": [],
   "source": [
    "from sklearn.pipeline import Pipeline\n",
    "from sklearn.model_selection import GridSearchCV, train_test_split\n",
    "from sklearn.linear_model import LinearRegression, Ridge, Lasso\n",
    "from sklearn.preprocessing import PolynomialFeatures, StandardScaler, OneHotEncoder, OrdinalEncoder\n",
    "from sklearn.compose import make_column_transformer, TransformedTargetRegressor\n",
    "from sklearn.inspection import permutation_importance\n",
    "from sklearn.feature_selection import SequentialFeatureSelector\n",
    "from sklearn.metrics import mean_squared_error\n",
    "import numpy as np\n",
    "import plotly.express as px\n",
    "import pandas as pd\n",
    "import warnings\n",
    "import matplotlib.pyplot as plt"
   ]
  },
  {
   "cell_type": "code",
   "execution_count": 8,
   "metadata": {},
   "outputs": [
    {
     "name": "stdout",
     "output_type": "stream",
     "text": [
      "<class 'pandas.core.frame.DataFrame'>\n",
      "RangeIndex: 426880 entries, 0 to 426879\n",
      "Data columns (total 18 columns):\n",
      " #   Column        Non-Null Count   Dtype  \n",
      "---  ------        --------------   -----  \n",
      " 0   id            426880 non-null  int64  \n",
      " 1   region        426880 non-null  object \n",
      " 2   price         426880 non-null  int64  \n",
      " 3   year          425675 non-null  float64\n",
      " 4   manufacturer  409234 non-null  object \n",
      " 5   model         421603 non-null  object \n",
      " 6   condition     252776 non-null  object \n",
      " 7   cylinders     249202 non-null  object \n",
      " 8   fuel          423867 non-null  object \n",
      " 9   odometer      422480 non-null  float64\n",
      " 10  title_status  418638 non-null  object \n",
      " 11  transmission  424324 non-null  object \n",
      " 12  VIN           265838 non-null  object \n",
      " 13  drive         296313 non-null  object \n",
      " 14  size          120519 non-null  object \n",
      " 15  type          334022 non-null  object \n",
      " 16  paint_color   296677 non-null  object \n",
      " 17  state         426880 non-null  object \n",
      "dtypes: float64(2), int64(2), object(14)\n",
      "memory usage: 58.6+ MB\n"
     ]
    }
   ],
   "source": [
    "# reading data into dataframe\n",
    "df = pd.read_csv('data/vehicles.csv')\n",
    "df.info()"
   ]
  },
  {
   "cell_type": "code",
   "execution_count": 9,
   "metadata": {},
   "outputs": [
    {
     "data": {
      "text/html": [
       "<div>\n",
       "<style scoped>\n",
       "    .dataframe tbody tr th:only-of-type {\n",
       "        vertical-align: middle;\n",
       "    }\n",
       "\n",
       "    .dataframe tbody tr th {\n",
       "        vertical-align: top;\n",
       "    }\n",
       "\n",
       "    .dataframe thead th {\n",
       "        text-align: right;\n",
       "    }\n",
       "</style>\n",
       "<table border=\"1\" class=\"dataframe\">\n",
       "  <thead>\n",
       "    <tr style=\"text-align: right;\">\n",
       "      <th></th>\n",
       "      <th>id</th>\n",
       "      <th>region</th>\n",
       "      <th>price</th>\n",
       "      <th>year</th>\n",
       "      <th>manufacturer</th>\n",
       "      <th>model</th>\n",
       "      <th>condition</th>\n",
       "      <th>cylinders</th>\n",
       "      <th>fuel</th>\n",
       "      <th>odometer</th>\n",
       "      <th>title_status</th>\n",
       "      <th>transmission</th>\n",
       "      <th>VIN</th>\n",
       "      <th>drive</th>\n",
       "      <th>size</th>\n",
       "      <th>type</th>\n",
       "      <th>paint_color</th>\n",
       "      <th>state</th>\n",
       "    </tr>\n",
       "  </thead>\n",
       "  <tbody>\n",
       "    <tr>\n",
       "      <th>0</th>\n",
       "      <td>7222695916</td>\n",
       "      <td>prescott</td>\n",
       "      <td>6000</td>\n",
       "      <td>NaN</td>\n",
       "      <td>NaN</td>\n",
       "      <td>NaN</td>\n",
       "      <td>NaN</td>\n",
       "      <td>NaN</td>\n",
       "      <td>NaN</td>\n",
       "      <td>NaN</td>\n",
       "      <td>NaN</td>\n",
       "      <td>NaN</td>\n",
       "      <td>NaN</td>\n",
       "      <td>NaN</td>\n",
       "      <td>NaN</td>\n",
       "      <td>NaN</td>\n",
       "      <td>NaN</td>\n",
       "      <td>az</td>\n",
       "    </tr>\n",
       "    <tr>\n",
       "      <th>1</th>\n",
       "      <td>7218891961</td>\n",
       "      <td>fayetteville</td>\n",
       "      <td>11900</td>\n",
       "      <td>NaN</td>\n",
       "      <td>NaN</td>\n",
       "      <td>NaN</td>\n",
       "      <td>NaN</td>\n",
       "      <td>NaN</td>\n",
       "      <td>NaN</td>\n",
       "      <td>NaN</td>\n",
       "      <td>NaN</td>\n",
       "      <td>NaN</td>\n",
       "      <td>NaN</td>\n",
       "      <td>NaN</td>\n",
       "      <td>NaN</td>\n",
       "      <td>NaN</td>\n",
       "      <td>NaN</td>\n",
       "      <td>ar</td>\n",
       "    </tr>\n",
       "    <tr>\n",
       "      <th>2</th>\n",
       "      <td>7221797935</td>\n",
       "      <td>florida keys</td>\n",
       "      <td>21000</td>\n",
       "      <td>NaN</td>\n",
       "      <td>NaN</td>\n",
       "      <td>NaN</td>\n",
       "      <td>NaN</td>\n",
       "      <td>NaN</td>\n",
       "      <td>NaN</td>\n",
       "      <td>NaN</td>\n",
       "      <td>NaN</td>\n",
       "      <td>NaN</td>\n",
       "      <td>NaN</td>\n",
       "      <td>NaN</td>\n",
       "      <td>NaN</td>\n",
       "      <td>NaN</td>\n",
       "      <td>NaN</td>\n",
       "      <td>fl</td>\n",
       "    </tr>\n",
       "    <tr>\n",
       "      <th>3</th>\n",
       "      <td>7222270760</td>\n",
       "      <td>worcester / central MA</td>\n",
       "      <td>1500</td>\n",
       "      <td>NaN</td>\n",
       "      <td>NaN</td>\n",
       "      <td>NaN</td>\n",
       "      <td>NaN</td>\n",
       "      <td>NaN</td>\n",
       "      <td>NaN</td>\n",
       "      <td>NaN</td>\n",
       "      <td>NaN</td>\n",
       "      <td>NaN</td>\n",
       "      <td>NaN</td>\n",
       "      <td>NaN</td>\n",
       "      <td>NaN</td>\n",
       "      <td>NaN</td>\n",
       "      <td>NaN</td>\n",
       "      <td>ma</td>\n",
       "    </tr>\n",
       "    <tr>\n",
       "      <th>4</th>\n",
       "      <td>7210384030</td>\n",
       "      <td>greensboro</td>\n",
       "      <td>4900</td>\n",
       "      <td>NaN</td>\n",
       "      <td>NaN</td>\n",
       "      <td>NaN</td>\n",
       "      <td>NaN</td>\n",
       "      <td>NaN</td>\n",
       "      <td>NaN</td>\n",
       "      <td>NaN</td>\n",
       "      <td>NaN</td>\n",
       "      <td>NaN</td>\n",
       "      <td>NaN</td>\n",
       "      <td>NaN</td>\n",
       "      <td>NaN</td>\n",
       "      <td>NaN</td>\n",
       "      <td>NaN</td>\n",
       "      <td>nc</td>\n",
       "    </tr>\n",
       "  </tbody>\n",
       "</table>\n",
       "</div>"
      ],
      "text/plain": [
       "           id                  region  price  year manufacturer model  \\\n",
       "0  7222695916                prescott   6000   NaN          NaN   NaN   \n",
       "1  7218891961            fayetteville  11900   NaN          NaN   NaN   \n",
       "2  7221797935            florida keys  21000   NaN          NaN   NaN   \n",
       "3  7222270760  worcester / central MA   1500   NaN          NaN   NaN   \n",
       "4  7210384030              greensboro   4900   NaN          NaN   NaN   \n",
       "\n",
       "  condition cylinders fuel  odometer title_status transmission  VIN drive  \\\n",
       "0       NaN       NaN  NaN       NaN          NaN          NaN  NaN   NaN   \n",
       "1       NaN       NaN  NaN       NaN          NaN          NaN  NaN   NaN   \n",
       "2       NaN       NaN  NaN       NaN          NaN          NaN  NaN   NaN   \n",
       "3       NaN       NaN  NaN       NaN          NaN          NaN  NaN   NaN   \n",
       "4       NaN       NaN  NaN       NaN          NaN          NaN  NaN   NaN   \n",
       "\n",
       "  size type paint_color state  \n",
       "0  NaN  NaN         NaN    az  \n",
       "1  NaN  NaN         NaN    ar  \n",
       "2  NaN  NaN         NaN    fl  \n",
       "3  NaN  NaN         NaN    ma  \n",
       "4  NaN  NaN         NaN    nc  "
      ]
     },
     "execution_count": 9,
     "metadata": {},
     "output_type": "execute_result"
    }
   ],
   "source": [
    "# checking head\n",
    "df.head()"
   ]
  },
  {
   "cell_type": "code",
   "execution_count": 10,
   "metadata": {},
   "outputs": [
    {
     "data": {
      "text/plain": [
       "id                   0\n",
       "region               0\n",
       "price                0\n",
       "year              1205\n",
       "manufacturer     17646\n",
       "model             5277\n",
       "condition       174104\n",
       "cylinders       177678\n",
       "fuel              3013\n",
       "odometer          4400\n",
       "title_status      8242\n",
       "transmission      2556\n",
       "VIN             161042\n",
       "drive           130567\n",
       "size            306361\n",
       "type             92858\n",
       "paint_color     130203\n",
       "state                0\n",
       "dtype: int64"
      ]
     },
     "execution_count": 10,
     "metadata": {},
     "output_type": "execute_result"
    }
   ],
   "source": [
    "# checking for null values\n",
    "df.isnull().sum()"
   ]
  },
  {
   "cell_type": "markdown",
   "metadata": {},
   "source": [
    "### Data Preparation\n",
    "\n",
    "After our initial exploration and fine tuning of the business understanding, it is time to construct our final dataset prior to modeling.  Here, we want to make sure to handle any integrity issues and cleaning, the engineering of new features, any transformations that we believe should happen (scaling, logarithms, normalization, etc.), and general preparation for modeling with `sklearn`. "
   ]
  },
  {
   "cell_type": "code",
   "execution_count": 12,
   "metadata": {},
   "outputs": [],
   "source": [
    "# dropping columns\n",
    "drop_cols = ['id', 'region', 'model', 'VIN', 'state']\n",
    "df = df.drop(drop_cols, axis=1)"
   ]
  },
  {
   "cell_type": "code",
   "execution_count": 13,
   "metadata": {},
   "outputs": [],
   "source": [
    "# ordinal -> condition, \n",
    "# onehot -> manufacturer, fuel, title_status, drive, size, type, paint_color"
   ]
  },
  {
   "cell_type": "code",
   "execution_count": 14,
   "metadata": {},
   "outputs": [],
   "source": [
    "# dropping null rows\n",
    "df = df.dropna()"
   ]
  },
  {
   "cell_type": "code",
   "execution_count": 15,
   "metadata": {},
   "outputs": [],
   "source": [
    "# removing 'other' values\n",
    "df = df.drop(df[df['cylinders'] == 'other'].index)\n",
    "df = df.drop(df[df['fuel'] == 'other'].index)\n",
    "df = df.drop(df[df['transmission'] == 'other'].index)\n",
    "df = df.drop(df[df['type'] == 'other'].index)\n",
    "df = df.drop(df[df['paint_color'] == 'custom'].index)"
   ]
  },
  {
   "cell_type": "code",
   "execution_count": 16,
   "metadata": {},
   "outputs": [],
   "source": [
    "# turning cylinder and transmission columns into ints\n",
    "df = df.replace({'6 cylinders': 6, '4 cylinders': 4, '8 cylinders': 8, '5 cylinders': 5, '10 cylinders': 10, '3 cylinders': 3, '12 cylinders': 12})\n",
    "df = df.replace({'automatic': 1, 'manual': 0})"
   ]
  },
  {
   "cell_type": "code",
   "execution_count": 17,
   "metadata": {},
   "outputs": [],
   "source": [
    "# removing values with low value counts and outlier values, also renaming transmission to automatic\n",
    "man_list = ['alfa-romeo', 'harley-davidson', 'datsun', 'ferrari', 'land rover', 'aston-martin', 'tesla']\n",
    "color_list = ['yellow', 'purple', 'orange']\n",
    "df = df[~df['manufacturer'].isin(man_list)]\n",
    "df = df[~df['paint_color'].isin(color_list)]\n",
    "df = df[df['fuel'] != 'electric']\n",
    "df = df[df['title_status'] != 'missing']\n",
    "df = df[df['title_status'] != 'parts only']\n",
    "df = df[df['type'] != 'bus']\n",
    "df = df[df['condition'] != 'salvage']\n",
    "df = df[df['price'] > 0]\n",
    "df = df.rename(columns={\"transmission\": \"automatic\"})"
   ]
  },
  {
   "cell_type": "code",
   "execution_count": 18,
   "metadata": {},
   "outputs": [
    {
     "name": "stdout",
     "output_type": "stream",
     "text": [
      "<class 'pandas.core.frame.DataFrame'>\n",
      "Index: 71209 entries, 31 to 426833\n",
      "Data columns (total 13 columns):\n",
      " #   Column        Non-Null Count  Dtype  \n",
      "---  ------        --------------  -----  \n",
      " 0   price         71209 non-null  int64  \n",
      " 1   year          71209 non-null  float64\n",
      " 2   manufacturer  71209 non-null  object \n",
      " 3   condition     71209 non-null  object \n",
      " 4   cylinders     71209 non-null  int64  \n",
      " 5   fuel          71209 non-null  object \n",
      " 6   odometer      71209 non-null  float64\n",
      " 7   title_status  71209 non-null  object \n",
      " 8   automatic     71209 non-null  int64  \n",
      " 9   drive         71209 non-null  object \n",
      " 10  size          71209 non-null  object \n",
      " 11  type          71209 non-null  object \n",
      " 12  paint_color   71209 non-null  object \n",
      "dtypes: float64(2), int64(3), object(8)\n",
      "memory usage: 7.6+ MB\n"
     ]
    }
   ],
   "source": [
    "# new dataframe structure after data preparation\n",
    "df.info()"
   ]
  },
  {
   "cell_type": "markdown",
   "metadata": {},
   "source": [
    "### Modeling\n",
    "\n",
    "With your (almost?) final dataset in hand, it is now time to build some models.  Here, you should build a number of different regression models with the price as the target.  In building your models, you should explore different parameters and be sure to cross-validate your findings."
   ]
  },
  {
   "cell_type": "code",
   "execution_count": 20,
   "metadata": {},
   "outputs": [],
   "source": [
    "# setting up X and y\n",
    "X = df.drop('price', axis=1)\n",
    "y = np.log(df['price'])"
   ]
  },
  {
   "cell_type": "code",
   "execution_count": 21,
   "metadata": {},
   "outputs": [],
   "source": [
    "# setting up train and test sets\n",
    "X_train, X_test, y_train, y_test = train_test_split(X, y, test_size=0.3)"
   ]
  },
  {
   "cell_type": "code",
   "execution_count": 22,
   "metadata": {},
   "outputs": [
    {
     "data": {
      "text/html": [
       "<style>#sk-container-id-1 {color: black;background-color: white;}#sk-container-id-1 pre{padding: 0;}#sk-container-id-1 div.sk-toggleable {background-color: white;}#sk-container-id-1 label.sk-toggleable__label {cursor: pointer;display: block;width: 100%;margin-bottom: 0;padding: 0.3em;box-sizing: border-box;text-align: center;}#sk-container-id-1 label.sk-toggleable__label-arrow:before {content: \"▸\";float: left;margin-right: 0.25em;color: #696969;}#sk-container-id-1 label.sk-toggleable__label-arrow:hover:before {color: black;}#sk-container-id-1 div.sk-estimator:hover label.sk-toggleable__label-arrow:before {color: black;}#sk-container-id-1 div.sk-toggleable__content {max-height: 0;max-width: 0;overflow: hidden;text-align: left;background-color: #f0f8ff;}#sk-container-id-1 div.sk-toggleable__content pre {margin: 0.2em;color: black;border-radius: 0.25em;background-color: #f0f8ff;}#sk-container-id-1 input.sk-toggleable__control:checked~div.sk-toggleable__content {max-height: 200px;max-width: 100%;overflow: auto;}#sk-container-id-1 input.sk-toggleable__control:checked~label.sk-toggleable__label-arrow:before {content: \"▾\";}#sk-container-id-1 div.sk-estimator input.sk-toggleable__control:checked~label.sk-toggleable__label {background-color: #d4ebff;}#sk-container-id-1 div.sk-label input.sk-toggleable__control:checked~label.sk-toggleable__label {background-color: #d4ebff;}#sk-container-id-1 input.sk-hidden--visually {border: 0;clip: rect(1px 1px 1px 1px);clip: rect(1px, 1px, 1px, 1px);height: 1px;margin: -1px;overflow: hidden;padding: 0;position: absolute;width: 1px;}#sk-container-id-1 div.sk-estimator {font-family: monospace;background-color: #f0f8ff;border: 1px dotted black;border-radius: 0.25em;box-sizing: border-box;margin-bottom: 0.5em;}#sk-container-id-1 div.sk-estimator:hover {background-color: #d4ebff;}#sk-container-id-1 div.sk-parallel-item::after {content: \"\";width: 100%;border-bottom: 1px solid gray;flex-grow: 1;}#sk-container-id-1 div.sk-label:hover label.sk-toggleable__label {background-color: #d4ebff;}#sk-container-id-1 div.sk-serial::before {content: \"\";position: absolute;border-left: 1px solid gray;box-sizing: border-box;top: 0;bottom: 0;left: 50%;z-index: 0;}#sk-container-id-1 div.sk-serial {display: flex;flex-direction: column;align-items: center;background-color: white;padding-right: 0.2em;padding-left: 0.2em;position: relative;}#sk-container-id-1 div.sk-item {position: relative;z-index: 1;}#sk-container-id-1 div.sk-parallel {display: flex;align-items: stretch;justify-content: center;background-color: white;position: relative;}#sk-container-id-1 div.sk-item::before, #sk-container-id-1 div.sk-parallel-item::before {content: \"\";position: absolute;border-left: 1px solid gray;box-sizing: border-box;top: 0;bottom: 0;left: 50%;z-index: -1;}#sk-container-id-1 div.sk-parallel-item {display: flex;flex-direction: column;z-index: 1;position: relative;background-color: white;}#sk-container-id-1 div.sk-parallel-item:first-child::after {align-self: flex-end;width: 50%;}#sk-container-id-1 div.sk-parallel-item:last-child::after {align-self: flex-start;width: 50%;}#sk-container-id-1 div.sk-parallel-item:only-child::after {width: 0;}#sk-container-id-1 div.sk-dashed-wrapped {border: 1px dashed gray;margin: 0 0.4em 0.5em 0.4em;box-sizing: border-box;padding-bottom: 0.4em;background-color: white;}#sk-container-id-1 div.sk-label label {font-family: monospace;font-weight: bold;display: inline-block;line-height: 1.2em;}#sk-container-id-1 div.sk-label-container {text-align: center;}#sk-container-id-1 div.sk-container {/* jupyter's `normalize.less` sets `[hidden] { display: none; }` but bootstrap.min.css set `[hidden] { display: none !important; }` so we also need the `!important` here to be able to override the default hidden behavior on the sphinx rendered scikit-learn.org. See: https://github.com/scikit-learn/scikit-learn/issues/21755 */display: inline-block !important;position: relative;}#sk-container-id-1 div.sk-text-repr-fallback {display: none;}</style><div id=\"sk-container-id-1\" class=\"sk-top-container\"><div class=\"sk-text-repr-fallback\"><pre>GridSearchCV(cv=10,\n",
       "             estimator=Pipeline(steps=[(&#x27;transform&#x27;,\n",
       "                                        ColumnTransformer(transformers=[(&#x27;ordinalencoder&#x27;,\n",
       "                                                                         OrdinalEncoder(categories=[[&#x27;fair&#x27;,\n",
       "                                                                                                     &#x27;good&#x27;,\n",
       "                                                                                                     &#x27;excellent&#x27;,\n",
       "                                                                                                     &#x27;like &#x27;\n",
       "                                                                                                     &#x27;new&#x27;,\n",
       "                                                                                                     &#x27;new&#x27;]]),\n",
       "                                                                         [&#x27;condition&#x27;]),\n",
       "                                                                        (&#x27;onehotencoder&#x27;,\n",
       "                                                                         OneHotEncoder(),\n",
       "                                                                         [&#x27;manufacturer&#x27;,\n",
       "                                                                          &#x27;fuel&#x27;,\n",
       "                                                                          &#x27;title_status&#x27;,\n",
       "                                                                          &#x27;drive&#x27;,\n",
       "                                                                          &#x27;size&#x27;,\n",
       "                                                                          &#x27;type&#x27;,\n",
       "                                                                          &#x27;paint_color&#x27;]),\n",
       "                                                                        (&#x27;polynomialfeatures&#x27;,\n",
       "                                                                         PolynomialFeatures(degree=3,\n",
       "                                                                                            include_bias=False),\n",
       "                                                                         [&#x27;year&#x27;,\n",
       "                                                                          &#x27;cylinders&#x27;,\n",
       "                                                                          &#x27;odometer&#x27;,\n",
       "                                                                          &#x27;automatic&#x27;])])),\n",
       "                                       (&#x27;scaler&#x27;, StandardScaler()),\n",
       "                                       (&#x27;ridge&#x27;, Ridge())]),\n",
       "             param_grid={&#x27;ridge__alpha&#x27;: [0.001, 0.01, 0.1, 1, 10, 100, 1000]},\n",
       "             scoring=&#x27;neg_mean_squared_error&#x27;)</pre><b>In a Jupyter environment, please rerun this cell to show the HTML representation or trust the notebook. <br />On GitHub, the HTML representation is unable to render, please try loading this page with nbviewer.org.</b></div><div class=\"sk-container\" hidden><div class=\"sk-item sk-dashed-wrapped\"><div class=\"sk-label-container\"><div class=\"sk-label sk-toggleable\"><input class=\"sk-toggleable__control sk-hidden--visually\" id=\"sk-estimator-id-1\" type=\"checkbox\" ><label for=\"sk-estimator-id-1\" class=\"sk-toggleable__label sk-toggleable__label-arrow\">GridSearchCV</label><div class=\"sk-toggleable__content\"><pre>GridSearchCV(cv=10,\n",
       "             estimator=Pipeline(steps=[(&#x27;transform&#x27;,\n",
       "                                        ColumnTransformer(transformers=[(&#x27;ordinalencoder&#x27;,\n",
       "                                                                         OrdinalEncoder(categories=[[&#x27;fair&#x27;,\n",
       "                                                                                                     &#x27;good&#x27;,\n",
       "                                                                                                     &#x27;excellent&#x27;,\n",
       "                                                                                                     &#x27;like &#x27;\n",
       "                                                                                                     &#x27;new&#x27;,\n",
       "                                                                                                     &#x27;new&#x27;]]),\n",
       "                                                                         [&#x27;condition&#x27;]),\n",
       "                                                                        (&#x27;onehotencoder&#x27;,\n",
       "                                                                         OneHotEncoder(),\n",
       "                                                                         [&#x27;manufacturer&#x27;,\n",
       "                                                                          &#x27;fuel&#x27;,\n",
       "                                                                          &#x27;title_status&#x27;,\n",
       "                                                                          &#x27;drive&#x27;,\n",
       "                                                                          &#x27;size&#x27;,\n",
       "                                                                          &#x27;type&#x27;,\n",
       "                                                                          &#x27;paint_color&#x27;]),\n",
       "                                                                        (&#x27;polynomialfeatures&#x27;,\n",
       "                                                                         PolynomialFeatures(degree=3,\n",
       "                                                                                            include_bias=False),\n",
       "                                                                         [&#x27;year&#x27;,\n",
       "                                                                          &#x27;cylinders&#x27;,\n",
       "                                                                          &#x27;odometer&#x27;,\n",
       "                                                                          &#x27;automatic&#x27;])])),\n",
       "                                       (&#x27;scaler&#x27;, StandardScaler()),\n",
       "                                       (&#x27;ridge&#x27;, Ridge())]),\n",
       "             param_grid={&#x27;ridge__alpha&#x27;: [0.001, 0.01, 0.1, 1, 10, 100, 1000]},\n",
       "             scoring=&#x27;neg_mean_squared_error&#x27;)</pre></div></div></div><div class=\"sk-parallel\"><div class=\"sk-parallel-item\"><div class=\"sk-item\"><div class=\"sk-label-container\"><div class=\"sk-label sk-toggleable\"><input class=\"sk-toggleable__control sk-hidden--visually\" id=\"sk-estimator-id-2\" type=\"checkbox\" ><label for=\"sk-estimator-id-2\" class=\"sk-toggleable__label sk-toggleable__label-arrow\">estimator: Pipeline</label><div class=\"sk-toggleable__content\"><pre>Pipeline(steps=[(&#x27;transform&#x27;,\n",
       "                 ColumnTransformer(transformers=[(&#x27;ordinalencoder&#x27;,\n",
       "                                                  OrdinalEncoder(categories=[[&#x27;fair&#x27;,\n",
       "                                                                              &#x27;good&#x27;,\n",
       "                                                                              &#x27;excellent&#x27;,\n",
       "                                                                              &#x27;like &#x27;\n",
       "                                                                              &#x27;new&#x27;,\n",
       "                                                                              &#x27;new&#x27;]]),\n",
       "                                                  [&#x27;condition&#x27;]),\n",
       "                                                 (&#x27;onehotencoder&#x27;,\n",
       "                                                  OneHotEncoder(),\n",
       "                                                  [&#x27;manufacturer&#x27;, &#x27;fuel&#x27;,\n",
       "                                                   &#x27;title_status&#x27;, &#x27;drive&#x27;,\n",
       "                                                   &#x27;size&#x27;, &#x27;type&#x27;,\n",
       "                                                   &#x27;paint_color&#x27;]),\n",
       "                                                 (&#x27;polynomialfeatures&#x27;,\n",
       "                                                  PolynomialFeatures(degree=3,\n",
       "                                                                     include_bias=False),\n",
       "                                                  [&#x27;year&#x27;, &#x27;cylinders&#x27;,\n",
       "                                                   &#x27;odometer&#x27;,\n",
       "                                                   &#x27;automatic&#x27;])])),\n",
       "                (&#x27;scaler&#x27;, StandardScaler()), (&#x27;ridge&#x27;, Ridge())])</pre></div></div></div><div class=\"sk-serial\"><div class=\"sk-item\"><div class=\"sk-serial\"><div class=\"sk-item sk-dashed-wrapped\"><div class=\"sk-label-container\"><div class=\"sk-label sk-toggleable\"><input class=\"sk-toggleable__control sk-hidden--visually\" id=\"sk-estimator-id-3\" type=\"checkbox\" ><label for=\"sk-estimator-id-3\" class=\"sk-toggleable__label sk-toggleable__label-arrow\">transform: ColumnTransformer</label><div class=\"sk-toggleable__content\"><pre>ColumnTransformer(transformers=[(&#x27;ordinalencoder&#x27;,\n",
       "                                 OrdinalEncoder(categories=[[&#x27;fair&#x27;, &#x27;good&#x27;,\n",
       "                                                             &#x27;excellent&#x27;,\n",
       "                                                             &#x27;like new&#x27;,\n",
       "                                                             &#x27;new&#x27;]]),\n",
       "                                 [&#x27;condition&#x27;]),\n",
       "                                (&#x27;onehotencoder&#x27;, OneHotEncoder(),\n",
       "                                 [&#x27;manufacturer&#x27;, &#x27;fuel&#x27;, &#x27;title_status&#x27;,\n",
       "                                  &#x27;drive&#x27;, &#x27;size&#x27;, &#x27;type&#x27;, &#x27;paint_color&#x27;]),\n",
       "                                (&#x27;polynomialfeatures&#x27;,\n",
       "                                 PolynomialFeatures(degree=3,\n",
       "                                                    include_bias=False),\n",
       "                                 [&#x27;year&#x27;, &#x27;cylinders&#x27;, &#x27;odometer&#x27;,\n",
       "                                  &#x27;automatic&#x27;])])</pre></div></div></div><div class=\"sk-parallel\"><div class=\"sk-parallel-item\"><div class=\"sk-item\"><div class=\"sk-label-container\"><div class=\"sk-label sk-toggleable\"><input class=\"sk-toggleable__control sk-hidden--visually\" id=\"sk-estimator-id-4\" type=\"checkbox\" ><label for=\"sk-estimator-id-4\" class=\"sk-toggleable__label sk-toggleable__label-arrow\">ordinalencoder</label><div class=\"sk-toggleable__content\"><pre>[&#x27;condition&#x27;]</pre></div></div></div><div class=\"sk-serial\"><div class=\"sk-item\"><div class=\"sk-estimator sk-toggleable\"><input class=\"sk-toggleable__control sk-hidden--visually\" id=\"sk-estimator-id-5\" type=\"checkbox\" ><label for=\"sk-estimator-id-5\" class=\"sk-toggleable__label sk-toggleable__label-arrow\">OrdinalEncoder</label><div class=\"sk-toggleable__content\"><pre>OrdinalEncoder(categories=[[&#x27;fair&#x27;, &#x27;good&#x27;, &#x27;excellent&#x27;, &#x27;like new&#x27;, &#x27;new&#x27;]])</pre></div></div></div></div></div></div><div class=\"sk-parallel-item\"><div class=\"sk-item\"><div class=\"sk-label-container\"><div class=\"sk-label sk-toggleable\"><input class=\"sk-toggleable__control sk-hidden--visually\" id=\"sk-estimator-id-6\" type=\"checkbox\" ><label for=\"sk-estimator-id-6\" class=\"sk-toggleable__label sk-toggleable__label-arrow\">onehotencoder</label><div class=\"sk-toggleable__content\"><pre>[&#x27;manufacturer&#x27;, &#x27;fuel&#x27;, &#x27;title_status&#x27;, &#x27;drive&#x27;, &#x27;size&#x27;, &#x27;type&#x27;, &#x27;paint_color&#x27;]</pre></div></div></div><div class=\"sk-serial\"><div class=\"sk-item\"><div class=\"sk-estimator sk-toggleable\"><input class=\"sk-toggleable__control sk-hidden--visually\" id=\"sk-estimator-id-7\" type=\"checkbox\" ><label for=\"sk-estimator-id-7\" class=\"sk-toggleable__label sk-toggleable__label-arrow\">OneHotEncoder</label><div class=\"sk-toggleable__content\"><pre>OneHotEncoder()</pre></div></div></div></div></div></div><div class=\"sk-parallel-item\"><div class=\"sk-item\"><div class=\"sk-label-container\"><div class=\"sk-label sk-toggleable\"><input class=\"sk-toggleable__control sk-hidden--visually\" id=\"sk-estimator-id-8\" type=\"checkbox\" ><label for=\"sk-estimator-id-8\" class=\"sk-toggleable__label sk-toggleable__label-arrow\">polynomialfeatures</label><div class=\"sk-toggleable__content\"><pre>[&#x27;year&#x27;, &#x27;cylinders&#x27;, &#x27;odometer&#x27;, &#x27;automatic&#x27;]</pre></div></div></div><div class=\"sk-serial\"><div class=\"sk-item\"><div class=\"sk-estimator sk-toggleable\"><input class=\"sk-toggleable__control sk-hidden--visually\" id=\"sk-estimator-id-9\" type=\"checkbox\" ><label for=\"sk-estimator-id-9\" class=\"sk-toggleable__label sk-toggleable__label-arrow\">PolynomialFeatures</label><div class=\"sk-toggleable__content\"><pre>PolynomialFeatures(degree=3, include_bias=False)</pre></div></div></div></div></div></div></div></div><div class=\"sk-item\"><div class=\"sk-estimator sk-toggleable\"><input class=\"sk-toggleable__control sk-hidden--visually\" id=\"sk-estimator-id-10\" type=\"checkbox\" ><label for=\"sk-estimator-id-10\" class=\"sk-toggleable__label sk-toggleable__label-arrow\">StandardScaler</label><div class=\"sk-toggleable__content\"><pre>StandardScaler()</pre></div></div></div><div class=\"sk-item\"><div class=\"sk-estimator sk-toggleable\"><input class=\"sk-toggleable__control sk-hidden--visually\" id=\"sk-estimator-id-11\" type=\"checkbox\" ><label for=\"sk-estimator-id-11\" class=\"sk-toggleable__label sk-toggleable__label-arrow\">Ridge</label><div class=\"sk-toggleable__content\"><pre>Ridge()</pre></div></div></div></div></div></div></div></div></div></div></div></div>"
      ],
      "text/plain": [
       "GridSearchCV(cv=10,\n",
       "             estimator=Pipeline(steps=[('transform',\n",
       "                                        ColumnTransformer(transformers=[('ordinalencoder',\n",
       "                                                                         OrdinalEncoder(categories=[['fair',\n",
       "                                                                                                     'good',\n",
       "                                                                                                     'excellent',\n",
       "                                                                                                     'like '\n",
       "                                                                                                     'new',\n",
       "                                                                                                     'new']]),\n",
       "                                                                         ['condition']),\n",
       "                                                                        ('onehotencoder',\n",
       "                                                                         OneHotEncoder(),\n",
       "                                                                         ['manufacturer',\n",
       "                                                                          'fuel',\n",
       "                                                                          'title_status',\n",
       "                                                                          'drive',\n",
       "                                                                          'size',\n",
       "                                                                          'type',\n",
       "                                                                          'paint_color']),\n",
       "                                                                        ('polynomialfeatures',\n",
       "                                                                         PolynomialFeatures(degree=3,\n",
       "                                                                                            include_bias=False),\n",
       "                                                                         ['year',\n",
       "                                                                          'cylinders',\n",
       "                                                                          'odometer',\n",
       "                                                                          'automatic'])])),\n",
       "                                       ('scaler', StandardScaler()),\n",
       "                                       ('ridge', Ridge())]),\n",
       "             param_grid={'ridge__alpha': [0.001, 0.01, 0.1, 1, 10, 100, 1000]},\n",
       "             scoring='neg_mean_squared_error')"
      ]
     },
     "execution_count": 22,
     "metadata": {},
     "output_type": "execute_result"
    }
   ],
   "source": [
    "# setting up pipeline and fitting the training data\n",
    "pipe = Pipeline([\n",
    "    ('transform', make_column_transformer(\n",
    "        (OrdinalEncoder(categories = [['fair', 'good', 'excellent', 'like new', 'new']]), ['condition']),\n",
    "        (OneHotEncoder(), ['manufacturer', 'fuel', 'title_status', 'drive', 'size', 'type', 'paint_color']),\n",
    "        (PolynomialFeatures(degree=3, include_bias=False), ['year', 'cylinders', 'odometer', 'automatic'])),\n",
    "    ), ('scaler', StandardScaler()), ('ridge', Ridge())\n",
    "])\n",
    "\n",
    "pipe.fit(X_train, y_train)\n",
    "\n",
    "# setting up param dict for gridsearch\n",
    "param_dict = {'ridge__alpha': [10**a for a in range(-3, 4)]}\n",
    "\n",
    "# running gridsearch to look for optimal alpha value\n",
    "cv = GridSearchCV(pipe, param_grid=param_dict, cv=10, scoring='neg_mean_squared_error')\n",
    "cv.fit(X_train, y_train)"
   ]
  },
  {
   "cell_type": "code",
   "execution_count": 23,
   "metadata": {
    "scrolled": true
   },
   "outputs": [
    {
     "data": {
      "text/html": [
       "<style>#sk-container-id-2 {color: black;background-color: white;}#sk-container-id-2 pre{padding: 0;}#sk-container-id-2 div.sk-toggleable {background-color: white;}#sk-container-id-2 label.sk-toggleable__label {cursor: pointer;display: block;width: 100%;margin-bottom: 0;padding: 0.3em;box-sizing: border-box;text-align: center;}#sk-container-id-2 label.sk-toggleable__label-arrow:before {content: \"▸\";float: left;margin-right: 0.25em;color: #696969;}#sk-container-id-2 label.sk-toggleable__label-arrow:hover:before {color: black;}#sk-container-id-2 div.sk-estimator:hover label.sk-toggleable__label-arrow:before {color: black;}#sk-container-id-2 div.sk-toggleable__content {max-height: 0;max-width: 0;overflow: hidden;text-align: left;background-color: #f0f8ff;}#sk-container-id-2 div.sk-toggleable__content pre {margin: 0.2em;color: black;border-radius: 0.25em;background-color: #f0f8ff;}#sk-container-id-2 input.sk-toggleable__control:checked~div.sk-toggleable__content {max-height: 200px;max-width: 100%;overflow: auto;}#sk-container-id-2 input.sk-toggleable__control:checked~label.sk-toggleable__label-arrow:before {content: \"▾\";}#sk-container-id-2 div.sk-estimator input.sk-toggleable__control:checked~label.sk-toggleable__label {background-color: #d4ebff;}#sk-container-id-2 div.sk-label input.sk-toggleable__control:checked~label.sk-toggleable__label {background-color: #d4ebff;}#sk-container-id-2 input.sk-hidden--visually {border: 0;clip: rect(1px 1px 1px 1px);clip: rect(1px, 1px, 1px, 1px);height: 1px;margin: -1px;overflow: hidden;padding: 0;position: absolute;width: 1px;}#sk-container-id-2 div.sk-estimator {font-family: monospace;background-color: #f0f8ff;border: 1px dotted black;border-radius: 0.25em;box-sizing: border-box;margin-bottom: 0.5em;}#sk-container-id-2 div.sk-estimator:hover {background-color: #d4ebff;}#sk-container-id-2 div.sk-parallel-item::after {content: \"\";width: 100%;border-bottom: 1px solid gray;flex-grow: 1;}#sk-container-id-2 div.sk-label:hover label.sk-toggleable__label {background-color: #d4ebff;}#sk-container-id-2 div.sk-serial::before {content: \"\";position: absolute;border-left: 1px solid gray;box-sizing: border-box;top: 0;bottom: 0;left: 50%;z-index: 0;}#sk-container-id-2 div.sk-serial {display: flex;flex-direction: column;align-items: center;background-color: white;padding-right: 0.2em;padding-left: 0.2em;position: relative;}#sk-container-id-2 div.sk-item {position: relative;z-index: 1;}#sk-container-id-2 div.sk-parallel {display: flex;align-items: stretch;justify-content: center;background-color: white;position: relative;}#sk-container-id-2 div.sk-item::before, #sk-container-id-2 div.sk-parallel-item::before {content: \"\";position: absolute;border-left: 1px solid gray;box-sizing: border-box;top: 0;bottom: 0;left: 50%;z-index: -1;}#sk-container-id-2 div.sk-parallel-item {display: flex;flex-direction: column;z-index: 1;position: relative;background-color: white;}#sk-container-id-2 div.sk-parallel-item:first-child::after {align-self: flex-end;width: 50%;}#sk-container-id-2 div.sk-parallel-item:last-child::after {align-self: flex-start;width: 50%;}#sk-container-id-2 div.sk-parallel-item:only-child::after {width: 0;}#sk-container-id-2 div.sk-dashed-wrapped {border: 1px dashed gray;margin: 0 0.4em 0.5em 0.4em;box-sizing: border-box;padding-bottom: 0.4em;background-color: white;}#sk-container-id-2 div.sk-label label {font-family: monospace;font-weight: bold;display: inline-block;line-height: 1.2em;}#sk-container-id-2 div.sk-label-container {text-align: center;}#sk-container-id-2 div.sk-container {/* jupyter's `normalize.less` sets `[hidden] { display: none; }` but bootstrap.min.css set `[hidden] { display: none !important; }` so we also need the `!important` here to be able to override the default hidden behavior on the sphinx rendered scikit-learn.org. See: https://github.com/scikit-learn/scikit-learn/issues/21755 */display: inline-block !important;position: relative;}#sk-container-id-2 div.sk-text-repr-fallback {display: none;}</style><div id=\"sk-container-id-2\" class=\"sk-top-container\"><div class=\"sk-text-repr-fallback\"><pre>Pipeline(steps=[(&#x27;transform&#x27;,\n",
       "                 ColumnTransformer(transformers=[(&#x27;ordinalencoder&#x27;,\n",
       "                                                  OrdinalEncoder(categories=[[&#x27;fair&#x27;,\n",
       "                                                                              &#x27;good&#x27;,\n",
       "                                                                              &#x27;excellent&#x27;,\n",
       "                                                                              &#x27;like &#x27;\n",
       "                                                                              &#x27;new&#x27;,\n",
       "                                                                              &#x27;new&#x27;]]),\n",
       "                                                  [&#x27;condition&#x27;]),\n",
       "                                                 (&#x27;onehotencoder&#x27;,\n",
       "                                                  OneHotEncoder(),\n",
       "                                                  [&#x27;manufacturer&#x27;, &#x27;fuel&#x27;,\n",
       "                                                   &#x27;title_status&#x27;, &#x27;drive&#x27;,\n",
       "                                                   &#x27;size&#x27;, &#x27;type&#x27;,\n",
       "                                                   &#x27;paint_color&#x27;]),\n",
       "                                                 (&#x27;polynomialfeatures&#x27;,\n",
       "                                                  PolynomialFeatures(degree=3,\n",
       "                                                                     include_bias=False),\n",
       "                                                  [&#x27;year&#x27;, &#x27;cylinders&#x27;,\n",
       "                                                   &#x27;odometer&#x27;,\n",
       "                                                   &#x27;automatic&#x27;])])),\n",
       "                (&#x27;scaler&#x27;, StandardScaler()), (&#x27;ridge&#x27;, Ridge(alpha=0.001))])</pre><b>In a Jupyter environment, please rerun this cell to show the HTML representation or trust the notebook. <br />On GitHub, the HTML representation is unable to render, please try loading this page with nbviewer.org.</b></div><div class=\"sk-container\" hidden><div class=\"sk-item sk-dashed-wrapped\"><div class=\"sk-label-container\"><div class=\"sk-label sk-toggleable\"><input class=\"sk-toggleable__control sk-hidden--visually\" id=\"sk-estimator-id-12\" type=\"checkbox\" ><label for=\"sk-estimator-id-12\" class=\"sk-toggleable__label sk-toggleable__label-arrow\">Pipeline</label><div class=\"sk-toggleable__content\"><pre>Pipeline(steps=[(&#x27;transform&#x27;,\n",
       "                 ColumnTransformer(transformers=[(&#x27;ordinalencoder&#x27;,\n",
       "                                                  OrdinalEncoder(categories=[[&#x27;fair&#x27;,\n",
       "                                                                              &#x27;good&#x27;,\n",
       "                                                                              &#x27;excellent&#x27;,\n",
       "                                                                              &#x27;like &#x27;\n",
       "                                                                              &#x27;new&#x27;,\n",
       "                                                                              &#x27;new&#x27;]]),\n",
       "                                                  [&#x27;condition&#x27;]),\n",
       "                                                 (&#x27;onehotencoder&#x27;,\n",
       "                                                  OneHotEncoder(),\n",
       "                                                  [&#x27;manufacturer&#x27;, &#x27;fuel&#x27;,\n",
       "                                                   &#x27;title_status&#x27;, &#x27;drive&#x27;,\n",
       "                                                   &#x27;size&#x27;, &#x27;type&#x27;,\n",
       "                                                   &#x27;paint_color&#x27;]),\n",
       "                                                 (&#x27;polynomialfeatures&#x27;,\n",
       "                                                  PolynomialFeatures(degree=3,\n",
       "                                                                     include_bias=False),\n",
       "                                                  [&#x27;year&#x27;, &#x27;cylinders&#x27;,\n",
       "                                                   &#x27;odometer&#x27;,\n",
       "                                                   &#x27;automatic&#x27;])])),\n",
       "                (&#x27;scaler&#x27;, StandardScaler()), (&#x27;ridge&#x27;, Ridge(alpha=0.001))])</pre></div></div></div><div class=\"sk-serial\"><div class=\"sk-item sk-dashed-wrapped\"><div class=\"sk-label-container\"><div class=\"sk-label sk-toggleable\"><input class=\"sk-toggleable__control sk-hidden--visually\" id=\"sk-estimator-id-13\" type=\"checkbox\" ><label for=\"sk-estimator-id-13\" class=\"sk-toggleable__label sk-toggleable__label-arrow\">transform: ColumnTransformer</label><div class=\"sk-toggleable__content\"><pre>ColumnTransformer(transformers=[(&#x27;ordinalencoder&#x27;,\n",
       "                                 OrdinalEncoder(categories=[[&#x27;fair&#x27;, &#x27;good&#x27;,\n",
       "                                                             &#x27;excellent&#x27;,\n",
       "                                                             &#x27;like new&#x27;,\n",
       "                                                             &#x27;new&#x27;]]),\n",
       "                                 [&#x27;condition&#x27;]),\n",
       "                                (&#x27;onehotencoder&#x27;, OneHotEncoder(),\n",
       "                                 [&#x27;manufacturer&#x27;, &#x27;fuel&#x27;, &#x27;title_status&#x27;,\n",
       "                                  &#x27;drive&#x27;, &#x27;size&#x27;, &#x27;type&#x27;, &#x27;paint_color&#x27;]),\n",
       "                                (&#x27;polynomialfeatures&#x27;,\n",
       "                                 PolynomialFeatures(degree=3,\n",
       "                                                    include_bias=False),\n",
       "                                 [&#x27;year&#x27;, &#x27;cylinders&#x27;, &#x27;odometer&#x27;,\n",
       "                                  &#x27;automatic&#x27;])])</pre></div></div></div><div class=\"sk-parallel\"><div class=\"sk-parallel-item\"><div class=\"sk-item\"><div class=\"sk-label-container\"><div class=\"sk-label sk-toggleable\"><input class=\"sk-toggleable__control sk-hidden--visually\" id=\"sk-estimator-id-14\" type=\"checkbox\" ><label for=\"sk-estimator-id-14\" class=\"sk-toggleable__label sk-toggleable__label-arrow\">ordinalencoder</label><div class=\"sk-toggleable__content\"><pre>[&#x27;condition&#x27;]</pre></div></div></div><div class=\"sk-serial\"><div class=\"sk-item\"><div class=\"sk-estimator sk-toggleable\"><input class=\"sk-toggleable__control sk-hidden--visually\" id=\"sk-estimator-id-15\" type=\"checkbox\" ><label for=\"sk-estimator-id-15\" class=\"sk-toggleable__label sk-toggleable__label-arrow\">OrdinalEncoder</label><div class=\"sk-toggleable__content\"><pre>OrdinalEncoder(categories=[[&#x27;fair&#x27;, &#x27;good&#x27;, &#x27;excellent&#x27;, &#x27;like new&#x27;, &#x27;new&#x27;]])</pre></div></div></div></div></div></div><div class=\"sk-parallel-item\"><div class=\"sk-item\"><div class=\"sk-label-container\"><div class=\"sk-label sk-toggleable\"><input class=\"sk-toggleable__control sk-hidden--visually\" id=\"sk-estimator-id-16\" type=\"checkbox\" ><label for=\"sk-estimator-id-16\" class=\"sk-toggleable__label sk-toggleable__label-arrow\">onehotencoder</label><div class=\"sk-toggleable__content\"><pre>[&#x27;manufacturer&#x27;, &#x27;fuel&#x27;, &#x27;title_status&#x27;, &#x27;drive&#x27;, &#x27;size&#x27;, &#x27;type&#x27;, &#x27;paint_color&#x27;]</pre></div></div></div><div class=\"sk-serial\"><div class=\"sk-item\"><div class=\"sk-estimator sk-toggleable\"><input class=\"sk-toggleable__control sk-hidden--visually\" id=\"sk-estimator-id-17\" type=\"checkbox\" ><label for=\"sk-estimator-id-17\" class=\"sk-toggleable__label sk-toggleable__label-arrow\">OneHotEncoder</label><div class=\"sk-toggleable__content\"><pre>OneHotEncoder()</pre></div></div></div></div></div></div><div class=\"sk-parallel-item\"><div class=\"sk-item\"><div class=\"sk-label-container\"><div class=\"sk-label sk-toggleable\"><input class=\"sk-toggleable__control sk-hidden--visually\" id=\"sk-estimator-id-18\" type=\"checkbox\" ><label for=\"sk-estimator-id-18\" class=\"sk-toggleable__label sk-toggleable__label-arrow\">polynomialfeatures</label><div class=\"sk-toggleable__content\"><pre>[&#x27;year&#x27;, &#x27;cylinders&#x27;, &#x27;odometer&#x27;, &#x27;automatic&#x27;]</pre></div></div></div><div class=\"sk-serial\"><div class=\"sk-item\"><div class=\"sk-estimator sk-toggleable\"><input class=\"sk-toggleable__control sk-hidden--visually\" id=\"sk-estimator-id-19\" type=\"checkbox\" ><label for=\"sk-estimator-id-19\" class=\"sk-toggleable__label sk-toggleable__label-arrow\">PolynomialFeatures</label><div class=\"sk-toggleable__content\"><pre>PolynomialFeatures(degree=3, include_bias=False)</pre></div></div></div></div></div></div></div></div><div class=\"sk-item\"><div class=\"sk-estimator sk-toggleable\"><input class=\"sk-toggleable__control sk-hidden--visually\" id=\"sk-estimator-id-20\" type=\"checkbox\" ><label for=\"sk-estimator-id-20\" class=\"sk-toggleable__label sk-toggleable__label-arrow\">StandardScaler</label><div class=\"sk-toggleable__content\"><pre>StandardScaler()</pre></div></div></div><div class=\"sk-item\"><div class=\"sk-estimator sk-toggleable\"><input class=\"sk-toggleable__control sk-hidden--visually\" id=\"sk-estimator-id-21\" type=\"checkbox\" ><label for=\"sk-estimator-id-21\" class=\"sk-toggleable__label sk-toggleable__label-arrow\">Ridge</label><div class=\"sk-toggleable__content\"><pre>Ridge(alpha=0.001)</pre></div></div></div></div></div></div></div>"
      ],
      "text/plain": [
       "Pipeline(steps=[('transform',\n",
       "                 ColumnTransformer(transformers=[('ordinalencoder',\n",
       "                                                  OrdinalEncoder(categories=[['fair',\n",
       "                                                                              'good',\n",
       "                                                                              'excellent',\n",
       "                                                                              'like '\n",
       "                                                                              'new',\n",
       "                                                                              'new']]),\n",
       "                                                  ['condition']),\n",
       "                                                 ('onehotencoder',\n",
       "                                                  OneHotEncoder(),\n",
       "                                                  ['manufacturer', 'fuel',\n",
       "                                                   'title_status', 'drive',\n",
       "                                                   'size', 'type',\n",
       "                                                   'paint_color']),\n",
       "                                                 ('polynomialfeatures',\n",
       "                                                  PolynomialFeatures(degree=3,\n",
       "                                                                     include_bias=False),\n",
       "                                                  ['year', 'cylinders',\n",
       "                                                   'odometer',\n",
       "                                                   'automatic'])])),\n",
       "                ('scaler', StandardScaler()), ('ridge', Ridge(alpha=0.001))])"
      ]
     },
     "execution_count": 23,
     "metadata": {},
     "output_type": "execute_result"
    }
   ],
   "source": [
    "# best model\n",
    "cv.best_estimator_"
   ]
  },
  {
   "cell_type": "code",
   "execution_count": 24,
   "metadata": {},
   "outputs": [
    {
     "data": {
      "text/plain": [
       "0.8673941417305112"
      ]
     },
     "execution_count": 24,
     "metadata": {},
     "output_type": "execute_result"
    }
   ],
   "source": [
    "# getting train set mse\n",
    "mean_squared_error(cv.predict(X_train), y_train)"
   ]
  },
  {
   "cell_type": "code",
   "execution_count": 25,
   "metadata": {},
   "outputs": [
    {
     "data": {
      "text/plain": [
       "0.916545775294428"
      ]
     },
     "execution_count": 25,
     "metadata": {},
     "output_type": "execute_result"
    }
   ],
   "source": [
    "# getting test set mse\n",
    "mean_squared_error(cv.predict(X_test), y_test)"
   ]
  },
  {
   "cell_type": "markdown",
   "metadata": {},
   "source": [
    "### Evaluation\n",
    "\n",
    "With some modeling accomplished, we aim to reflect on what we identify as a high quality model and what we are able to learn from this.  We should review our business objective and explore how well we can provide meaningful insight on drivers of used car prices.  Your goal now is to distill your findings and determine whether the earlier phases need revisitation and adjustment or if you have information of value to bring back to your client."
   ]
  },
  {
   "cell_type": "code",
   "execution_count": 27,
   "metadata": {},
   "outputs": [],
   "source": [
    "# getting permutation importance from gridsearch object\n",
    "result = permutation_importance(cv, X_train, y_train, n_repeats=10)"
   ]
  },
  {
   "cell_type": "code",
   "execution_count": 28,
   "metadata": {},
   "outputs": [
    {
     "data": {
      "text/plain": [
       "array([0.35355655, 0.03362056, 0.02527818, 0.13007078, 0.04399836,\n",
       "       0.07848051, 0.00173097, 0.0109727 , 0.02842883, 0.01365962,\n",
       "       0.1142304 , 0.002103  ])"
      ]
     },
     "execution_count": 28,
     "metadata": {},
     "output_type": "execute_result"
    }
   ],
   "source": [
    "result.importances_mean"
   ]
  },
  {
   "cell_type": "code",
   "execution_count": 29,
   "metadata": {},
   "outputs": [
    {
     "data": {
      "text/plain": [
       "Text(0.5, 1.0, 'Permutation Importance Means - Ridge')"
      ]
     },
     "execution_count": 29,
     "metadata": {},
     "output_type": "execute_result"
    },
    {
     "data": {
      "image/png": "[encoded data removed]",
      "text/plain": [
       "<Figure size 640x480 with 1 Axes>"
      ]
     },
     "metadata": {},
     "output_type": "display_data"
    }
   ],
   "source": [
    "# plotting permutation importance means for each feature\n",
    "columns = ['year', 'manufacturer', 'condition', 'cylinders', 'fuel', 'odometer', 'title_status', 'automatic' ,'drive', 'size', 'type','paint_color']\n",
    "plt.bar(columns, result.importances_mean)\n",
    "plt.xlabel('Features')\n",
    "plt.xticks(rotation=45)\n",
    "plt.title('Permutation Importance Means - Ridge')"
   ]
  },
  {
   "cell_type": "code",
   "execution_count": null,
   "metadata": {},
   "outputs": [],
   "source": []
  },
  {
   "cell_type": "code",
   "execution_count": 30,
   "metadata": {},
   "outputs": [],
   "source": [
    "# getting best estimator's coefficients\n",
    "coefs = cv.best_estimator_.named_steps['ridge'].coef_\n",
    "coef_df = pd.DataFrame({'name': pipe[:-1].get_feature_names_out(),'coef': coefs})\n",
    "coef_df = coef_df.sort_values(by='coef', ascending=True)"
   ]
  },
  {
   "cell_type": "code",
   "execution_count": 31,
   "metadata": {},
   "outputs": [
    {
     "data": {
      "text/html": [
       "<div>\n",
       "<style scoped>\n",
       "    .dataframe tbody tr th:only-of-type {\n",
       "        vertical-align: middle;\n",
       "    }\n",
       "\n",
       "    .dataframe tbody tr th {\n",
       "        vertical-align: top;\n",
       "    }\n",
       "\n",
       "    .dataframe thead th {\n",
       "        text-align: right;\n",
       "    }\n",
       "</style>\n",
       "<table border=\"1\" class=\"dataframe\">\n",
       "  <thead>\n",
       "    <tr style=\"text-align: right;\">\n",
       "      <th></th>\n",
       "      <th>name</th>\n",
       "      <th>coef</th>\n",
       "    </tr>\n",
       "  </thead>\n",
       "  <tbody>\n",
       "    <tr>\n",
       "      <th>86</th>\n",
       "      <td>polynomialfeatures__year cylinders^2</td>\n",
       "      <td>-188.429898</td>\n",
       "    </tr>\n",
       "    <tr>\n",
       "      <th>69</th>\n",
       "      <td>polynomialfeatures__cylinders</td>\n",
       "      <td>-90.756728</td>\n",
       "    </tr>\n",
       "    <tr>\n",
       "      <th>72</th>\n",
       "      <td>polynomialfeatures__year^2</td>\n",
       "      <td>-77.828192</td>\n",
       "    </tr>\n",
       "    <tr>\n",
       "      <th>77</th>\n",
       "      <td>polynomialfeatures__cylinders odometer</td>\n",
       "      <td>-26.079894</td>\n",
       "    </tr>\n",
       "    <tr>\n",
       "      <th>88</th>\n",
       "      <td>polynomialfeatures__year cylinders automatic</td>\n",
       "      <td>-24.957381</td>\n",
       "    </tr>\n",
       "    <tr>\n",
       "      <th>74</th>\n",
       "      <td>polynomialfeatures__year odometer</td>\n",
       "      <td>-16.167353</td>\n",
       "    </tr>\n",
       "    <tr>\n",
       "      <th>89</th>\n",
       "      <td>polynomialfeatures__year odometer^2</td>\n",
       "      <td>-7.255397</td>\n",
       "    </tr>\n",
       "    <tr>\n",
       "      <th>75</th>\n",
       "      <td>polynomialfeatures__year automatic</td>\n",
       "      <td>-6.941294</td>\n",
       "    </tr>\n",
       "    <tr>\n",
       "      <th>91</th>\n",
       "      <td>polynomialfeatures__year automatic^2</td>\n",
       "      <td>-6.941293</td>\n",
       "    </tr>\n",
       "    <tr>\n",
       "      <th>92</th>\n",
       "      <td>polynomialfeatures__cylinders^3</td>\n",
       "      <td>-4.040877</td>\n",
       "    </tr>\n",
       "  </tbody>\n",
       "</table>\n",
       "</div>"
      ],
      "text/plain": [
       "                                            name        coef\n",
       "86          polynomialfeatures__year cylinders^2 -188.429898\n",
       "69                 polynomialfeatures__cylinders  -90.756728\n",
       "72                    polynomialfeatures__year^2  -77.828192\n",
       "77        polynomialfeatures__cylinders odometer  -26.079894\n",
       "88  polynomialfeatures__year cylinders automatic  -24.957381\n",
       "74             polynomialfeatures__year odometer  -16.167353\n",
       "89           polynomialfeatures__year odometer^2   -7.255397\n",
       "75            polynomialfeatures__year automatic   -6.941294\n",
       "91          polynomialfeatures__year automatic^2   -6.941293\n",
       "92               polynomialfeatures__cylinders^3   -4.040877"
      ]
     },
     "execution_count": 31,
     "metadata": {},
     "output_type": "execute_result"
    }
   ],
   "source": [
    "# checking for features that affect the price most in a negative way\n",
    "coef_df.head(10)"
   ]
  },
  {
   "cell_type": "code",
   "execution_count": 32,
   "metadata": {},
   "outputs": [
    {
     "data": {
      "text/html": [
       "<div>\n",
       "<style scoped>\n",
       "    .dataframe tbody tr th:only-of-type {\n",
       "        vertical-align: middle;\n",
       "    }\n",
       "\n",
       "    .dataframe tbody tr th {\n",
       "        vertical-align: top;\n",
       "    }\n",
       "\n",
       "    .dataframe thead th {\n",
       "        text-align: right;\n",
       "    }\n",
       "</style>\n",
       "<table border=\"1\" class=\"dataframe\">\n",
       "  <thead>\n",
       "    <tr style=\"text-align: right;\">\n",
       "      <th></th>\n",
       "      <th>name</th>\n",
       "      <th>coef</th>\n",
       "    </tr>\n",
       "  </thead>\n",
       "  <tbody>\n",
       "    <tr>\n",
       "      <th>79</th>\n",
       "      <td>polynomialfeatures__odometer^2</td>\n",
       "      <td>8.987027</td>\n",
       "    </tr>\n",
       "    <tr>\n",
       "      <th>78</th>\n",
       "      <td>polynomialfeatures__cylinders automatic</td>\n",
       "      <td>12.029246</td>\n",
       "    </tr>\n",
       "    <tr>\n",
       "      <th>97</th>\n",
       "      <td>polynomialfeatures__cylinders automatic^2</td>\n",
       "      <td>12.029977</td>\n",
       "    </tr>\n",
       "    <tr>\n",
       "      <th>70</th>\n",
       "      <td>polynomialfeatures__odometer</td>\n",
       "      <td>19.691410</td>\n",
       "    </tr>\n",
       "    <tr>\n",
       "      <th>85</th>\n",
       "      <td>polynomialfeatures__year^2 automatic</td>\n",
       "      <td>19.775761</td>\n",
       "    </tr>\n",
       "    <tr>\n",
       "      <th>87</th>\n",
       "      <td>polynomialfeatures__year cylinders odometer</td>\n",
       "      <td>23.346629</td>\n",
       "    </tr>\n",
       "    <tr>\n",
       "      <th>68</th>\n",
       "      <td>polynomialfeatures__year</td>\n",
       "      <td>24.564502</td>\n",
       "    </tr>\n",
       "    <tr>\n",
       "      <th>82</th>\n",
       "      <td>polynomialfeatures__year^3</td>\n",
       "      <td>52.186194</td>\n",
       "    </tr>\n",
       "    <tr>\n",
       "      <th>83</th>\n",
       "      <td>polynomialfeatures__year^2 cylinders</td>\n",
       "      <td>86.433706</td>\n",
       "    </tr>\n",
       "    <tr>\n",
       "      <th>76</th>\n",
       "      <td>polynomialfeatures__cylinders^2</td>\n",
       "      <td>195.169730</td>\n",
       "    </tr>\n",
       "  </tbody>\n",
       "</table>\n",
       "</div>"
      ],
      "text/plain": [
       "                                           name        coef\n",
       "79               polynomialfeatures__odometer^2    8.987027\n",
       "78      polynomialfeatures__cylinders automatic   12.029246\n",
       "97    polynomialfeatures__cylinders automatic^2   12.029977\n",
       "70                 polynomialfeatures__odometer   19.691410\n",
       "85         polynomialfeatures__year^2 automatic   19.775761\n",
       "87  polynomialfeatures__year cylinders odometer   23.346629\n",
       "68                     polynomialfeatures__year   24.564502\n",
       "82                   polynomialfeatures__year^3   52.186194\n",
       "83         polynomialfeatures__year^2 cylinders   86.433706\n",
       "76              polynomialfeatures__cylinders^2  195.169730"
      ]
     },
     "execution_count": 32,
     "metadata": {},
     "output_type": "execute_result"
    }
   ],
   "source": [
    "# checking for features that affect the price most in a positive way\n",
    "coef_df.tail(10)"
   ]
  },
  {
   "cell_type": "code",
   "execution_count": 33,
   "metadata": {},
   "outputs": [
    {
     "data": {
      "text/plain": [
       "{'mean_fit_time': array([0.20208342, 0.18957195, 0.19647808, 0.20358462, 0.18416708,\n",
       "        0.18006408, 0.17215655]),\n",
       " 'std_fit_time': array([0.01432713, 0.01005095, 0.01318816, 0.01292114, 0.00678848,\n",
       "        0.01289943, 0.00832653]),\n",
       " 'mean_score_time': array([0.0152138 , 0.01601524, 0.01501381, 0.01541405, 0.01441317,\n",
       "        0.01341166, 0.01351194]),\n",
       " 'std_score_time': array([0.00160109, 0.00195124, 0.00189909, 0.002156  , 0.00162602,\n",
       "        0.00168688, 0.00143263]),\n",
       " 'param_ridge__alpha': masked_array(data=[0.001, 0.01, 0.1, 1, 10, 100, 1000],\n",
       "              mask=[False, False, False, False, False, False, False],\n",
       "        fill_value='?',\n",
       "             dtype=object),\n",
       " 'params': [{'ridge__alpha': 0.001},\n",
       "  {'ridge__alpha': 0.01},\n",
       "  {'ridge__alpha': 0.1},\n",
       "  {'ridge__alpha': 1},\n",
       "  {'ridge__alpha': 10},\n",
       "  {'ridge__alpha': 100},\n",
       "  {'ridge__alpha': 1000}],\n",
       " 'split0_test_score': array([-0.8279804 , -0.83224539, -0.83491682, -0.83984341, -0.87210506,\n",
       "        -0.90454665, -0.9227506 ]),\n",
       " 'split1_test_score': array([-0.84866132, -0.85695636, -0.86069797, -0.86816321, -0.90982667,\n",
       "        -0.95009063, -0.9706807 ]),\n",
       " 'split2_test_score': array([-1.08748402, -1.14846975, -1.16969836, -1.15134239, -1.06028663,\n",
       "        -0.94570447, -0.95779801]),\n",
       " 'split3_test_score': array([-0.97650825, -0.98841301, -0.99605173, -1.00223785, -1.0318535 ,\n",
       "        -1.06148572, -1.07805444]),\n",
       " 'split4_test_score': array([-0.76363185, -0.76728478, -0.77259814, -0.77357372, -0.79849313,\n",
       "        -0.83142518, -0.84597512]),\n",
       " 'split5_test_score': array([-0.96114652, -0.96381624, -0.96892744, -0.9759986 , -1.01145972,\n",
       "        -1.02776034, -1.04298695]),\n",
       " 'split6_test_score': array([-1.02285758, -1.02248933, -1.02560636, -1.03188319, -1.05867407,\n",
       "        -1.06101559, -1.06930114]),\n",
       " 'split7_test_score': array([-0.9752003 , -0.99588103, -0.99801659, -0.9895416 , -1.01533868,\n",
       "        -1.05223001, -1.07567299]),\n",
       " 'split8_test_score': array([-0.78576796, -0.79432874, -0.8003088 , -0.80760838, -0.84799621,\n",
       "        -0.88630612, -0.90525854]),\n",
       " 'split9_test_score': array([-0.71865907, -0.72364474, -0.72777395, -0.73249317, -0.76457671,\n",
       "        -0.7951546 , -0.80916709]),\n",
       " 'mean_test_score': array([-0.89678973, -0.90935294, -0.91545962, -0.91726855, -0.93706104,\n",
       "        -0.95157193, -0.96776456]),\n",
       " 'std_test_score': array([0.11736308, 0.12777832, 0.13088934, 0.12611144, 0.10605088,\n",
       "        0.09241479, 0.09262996]),\n",
       " 'rank_test_score': array([1, 2, 3, 4, 5, 6, 7])}"
      ]
     },
     "execution_count": 33,
     "metadata": {},
     "output_type": "execute_result"
    }
   ],
   "source": [
    "# checking gridsearch results\n",
    "cv.cv_results_"
   ]
  },
  {
   "cell_type": "code",
   "execution_count": 34,
   "metadata": {},
   "outputs": [
    {
     "data": {
      "text/plain": [
       "Text(0.5, 1.0, 'Alpha Values vs. MSE')"
      ]
     },
     "execution_count": 34,
     "metadata": {},
     "output_type": "execute_result"
    },
    {
     "data": {
      "image/png": "[encoded data removed]",
      "text/plain": [
       "<Figure size 640x480 with 1 Axes>"
      ]
     },
     "metadata": {},
     "output_type": "display_data"
    }
   ],
   "source": [
    "# plotting MSEs for each alpha value\n",
    "mses = [0.85801179, 0.86491276, 0.86951045, 0.87257613, 0.89732286,\n",
    "        0.92129563, 0.93384664]\n",
    "labels = ['0.001', '0.01', '0.1', '1', '10', '100', '1000']\n",
    "\n",
    "plt.plot(labels, mses)\n",
    "plt.ylabel('MSE')\n",
    "plt.xlabel('Alpha Value')\n",
    "plt.title('Alpha Values vs. MSE')"
   ]
  },
  {
   "cell_type": "code",
   "execution_count": 35,
   "metadata": {},
   "outputs": [
    {
     "data": {
      "text/html": [
       "<style>#sk-container-id-3 {color: black;background-color: white;}#sk-container-id-3 pre{padding: 0;}#sk-container-id-3 div.sk-toggleable {background-color: white;}#sk-container-id-3 label.sk-toggleable__label {cursor: pointer;display: block;width: 100%;margin-bottom: 0;padding: 0.3em;box-sizing: border-box;text-align: center;}#sk-container-id-3 label.sk-toggleable__label-arrow:before {content: \"▸\";float: left;margin-right: 0.25em;color: #696969;}#sk-container-id-3 label.sk-toggleable__label-arrow:hover:before {color: black;}#sk-container-id-3 div.sk-estimator:hover label.sk-toggleable__label-arrow:before {color: black;}#sk-container-id-3 div.sk-toggleable__content {max-height: 0;max-width: 0;overflow: hidden;text-align: left;background-color: #f0f8ff;}#sk-container-id-3 div.sk-toggleable__content pre {margin: 0.2em;color: black;border-radius: 0.25em;background-color: #f0f8ff;}#sk-container-id-3 input.sk-toggleable__control:checked~div.sk-toggleable__content {max-height: 200px;max-width: 100%;overflow: auto;}#sk-container-id-3 input.sk-toggleable__control:checked~label.sk-toggleable__label-arrow:before {content: \"▾\";}#sk-container-id-3 div.sk-estimator input.sk-toggleable__control:checked~label.sk-toggleable__label {background-color: #d4ebff;}#sk-container-id-3 div.sk-label input.sk-toggleable__control:checked~label.sk-toggleable__label {background-color: #d4ebff;}#sk-container-id-3 input.sk-hidden--visually {border: 0;clip: rect(1px 1px 1px 1px);clip: rect(1px, 1px, 1px, 1px);height: 1px;margin: -1px;overflow: hidden;padding: 0;position: absolute;width: 1px;}#sk-container-id-3 div.sk-estimator {font-family: monospace;background-color: #f0f8ff;border: 1px dotted black;border-radius: 0.25em;box-sizing: border-box;margin-bottom: 0.5em;}#sk-container-id-3 div.sk-estimator:hover {background-color: #d4ebff;}#sk-container-id-3 div.sk-parallel-item::after {content: \"\";width: 100%;border-bottom: 1px solid gray;flex-grow: 1;}#sk-container-id-3 div.sk-label:hover label.sk-toggleable__label {background-color: #d4ebff;}#sk-container-id-3 div.sk-serial::before {content: \"\";position: absolute;border-left: 1px solid gray;box-sizing: border-box;top: 0;bottom: 0;left: 50%;z-index: 0;}#sk-container-id-3 div.sk-serial {display: flex;flex-direction: column;align-items: center;background-color: white;padding-right: 0.2em;padding-left: 0.2em;position: relative;}#sk-container-id-3 div.sk-item {position: relative;z-index: 1;}#sk-container-id-3 div.sk-parallel {display: flex;align-items: stretch;justify-content: center;background-color: white;position: relative;}#sk-container-id-3 div.sk-item::before, #sk-container-id-3 div.sk-parallel-item::before {content: \"\";position: absolute;border-left: 1px solid gray;box-sizing: border-box;top: 0;bottom: 0;left: 50%;z-index: -1;}#sk-container-id-3 div.sk-parallel-item {display: flex;flex-direction: column;z-index: 1;position: relative;background-color: white;}#sk-container-id-3 div.sk-parallel-item:first-child::after {align-self: flex-end;width: 50%;}#sk-container-id-3 div.sk-parallel-item:last-child::after {align-self: flex-start;width: 50%;}#sk-container-id-3 div.sk-parallel-item:only-child::after {width: 0;}#sk-container-id-3 div.sk-dashed-wrapped {border: 1px dashed gray;margin: 0 0.4em 0.5em 0.4em;box-sizing: border-box;padding-bottom: 0.4em;background-color: white;}#sk-container-id-3 div.sk-label label {font-family: monospace;font-weight: bold;display: inline-block;line-height: 1.2em;}#sk-container-id-3 div.sk-label-container {text-align: center;}#sk-container-id-3 div.sk-container {/* jupyter's `normalize.less` sets `[hidden] { display: none; }` but bootstrap.min.css set `[hidden] { display: none !important; }` so we also need the `!important` here to be able to override the default hidden behavior on the sphinx rendered scikit-learn.org. See: https://github.com/scikit-learn/scikit-learn/issues/21755 */display: inline-block !important;position: relative;}#sk-container-id-3 div.sk-text-repr-fallback {display: none;}</style><div id=\"sk-container-id-3\" class=\"sk-top-container\"><div class=\"sk-text-repr-fallback\"><pre>Pipeline(steps=[(&#x27;transform&#x27;,\n",
       "                 ColumnTransformer(transformers=[(&#x27;ordinalencoder&#x27;,\n",
       "                                                  OrdinalEncoder(categories=[[&#x27;fair&#x27;,\n",
       "                                                                              &#x27;good&#x27;,\n",
       "                                                                              &#x27;excellent&#x27;,\n",
       "                                                                              &#x27;like &#x27;\n",
       "                                                                              &#x27;new&#x27;,\n",
       "                                                                              &#x27;new&#x27;]]),\n",
       "                                                  [&#x27;condition&#x27;]),\n",
       "                                                 (&#x27;onehotencoder&#x27;,\n",
       "                                                  OneHotEncoder(),\n",
       "                                                  [&#x27;manufacturer&#x27;, &#x27;fuel&#x27;,\n",
       "                                                   &#x27;title_status&#x27;, &#x27;drive&#x27;,\n",
       "                                                   &#x27;size&#x27;, &#x27;type&#x27;,\n",
       "                                                   &#x27;paint_color&#x27;]),\n",
       "                                                 (&#x27;polynomialfeatures&#x27;,\n",
       "                                                  PolynomialFeatures(degree=3,\n",
       "                                                                     include_bias=False),\n",
       "                                                  [&#x27;year&#x27;, &#x27;cylinders&#x27;,\n",
       "                                                   &#x27;odometer&#x27;,\n",
       "                                                   &#x27;automatic&#x27;])])),\n",
       "                (&#x27;scaler&#x27;, StandardScaler()), (&#x27;linreg&#x27;, LinearRegression())])</pre><b>In a Jupyter environment, please rerun this cell to show the HTML representation or trust the notebook. <br />On GitHub, the HTML representation is unable to render, please try loading this page with nbviewer.org.</b></div><div class=\"sk-container\" hidden><div class=\"sk-item sk-dashed-wrapped\"><div class=\"sk-label-container\"><div class=\"sk-label sk-toggleable\"><input class=\"sk-toggleable__control sk-hidden--visually\" id=\"sk-estimator-id-22\" type=\"checkbox\" ><label for=\"sk-estimator-id-22\" class=\"sk-toggleable__label sk-toggleable__label-arrow\">Pipeline</label><div class=\"sk-toggleable__content\"><pre>Pipeline(steps=[(&#x27;transform&#x27;,\n",
       "                 ColumnTransformer(transformers=[(&#x27;ordinalencoder&#x27;,\n",
       "                                                  OrdinalEncoder(categories=[[&#x27;fair&#x27;,\n",
       "                                                                              &#x27;good&#x27;,\n",
       "                                                                              &#x27;excellent&#x27;,\n",
       "                                                                              &#x27;like &#x27;\n",
       "                                                                              &#x27;new&#x27;,\n",
       "                                                                              &#x27;new&#x27;]]),\n",
       "                                                  [&#x27;condition&#x27;]),\n",
       "                                                 (&#x27;onehotencoder&#x27;,\n",
       "                                                  OneHotEncoder(),\n",
       "                                                  [&#x27;manufacturer&#x27;, &#x27;fuel&#x27;,\n",
       "                                                   &#x27;title_status&#x27;, &#x27;drive&#x27;,\n",
       "                                                   &#x27;size&#x27;, &#x27;type&#x27;,\n",
       "                                                   &#x27;paint_color&#x27;]),\n",
       "                                                 (&#x27;polynomialfeatures&#x27;,\n",
       "                                                  PolynomialFeatures(degree=3,\n",
       "                                                                     include_bias=False),\n",
       "                                                  [&#x27;year&#x27;, &#x27;cylinders&#x27;,\n",
       "                                                   &#x27;odometer&#x27;,\n",
       "                                                   &#x27;automatic&#x27;])])),\n",
       "                (&#x27;scaler&#x27;, StandardScaler()), (&#x27;linreg&#x27;, LinearRegression())])</pre></div></div></div><div class=\"sk-serial\"><div class=\"sk-item sk-dashed-wrapped\"><div class=\"sk-label-container\"><div class=\"sk-label sk-toggleable\"><input class=\"sk-toggleable__control sk-hidden--visually\" id=\"sk-estimator-id-23\" type=\"checkbox\" ><label for=\"sk-estimator-id-23\" class=\"sk-toggleable__label sk-toggleable__label-arrow\">transform: ColumnTransformer</label><div class=\"sk-toggleable__content\"><pre>ColumnTransformer(transformers=[(&#x27;ordinalencoder&#x27;,\n",
       "                                 OrdinalEncoder(categories=[[&#x27;fair&#x27;, &#x27;good&#x27;,\n",
       "                                                             &#x27;excellent&#x27;,\n",
       "                                                             &#x27;like new&#x27;,\n",
       "                                                             &#x27;new&#x27;]]),\n",
       "                                 [&#x27;condition&#x27;]),\n",
       "                                (&#x27;onehotencoder&#x27;, OneHotEncoder(),\n",
       "                                 [&#x27;manufacturer&#x27;, &#x27;fuel&#x27;, &#x27;title_status&#x27;,\n",
       "                                  &#x27;drive&#x27;, &#x27;size&#x27;, &#x27;type&#x27;, &#x27;paint_color&#x27;]),\n",
       "                                (&#x27;polynomialfeatures&#x27;,\n",
       "                                 PolynomialFeatures(degree=3,\n",
       "                                                    include_bias=False),\n",
       "                                 [&#x27;year&#x27;, &#x27;cylinders&#x27;, &#x27;odometer&#x27;,\n",
       "                                  &#x27;automatic&#x27;])])</pre></div></div></div><div class=\"sk-parallel\"><div class=\"sk-parallel-item\"><div class=\"sk-item\"><div class=\"sk-label-container\"><div class=\"sk-label sk-toggleable\"><input class=\"sk-toggleable__control sk-hidden--visually\" id=\"sk-estimator-id-24\" type=\"checkbox\" ><label for=\"sk-estimator-id-24\" class=\"sk-toggleable__label sk-toggleable__label-arrow\">ordinalencoder</label><div class=\"sk-toggleable__content\"><pre>[&#x27;condition&#x27;]</pre></div></div></div><div class=\"sk-serial\"><div class=\"sk-item\"><div class=\"sk-estimator sk-toggleable\"><input class=\"sk-toggleable__control sk-hidden--visually\" id=\"sk-estimator-id-25\" type=\"checkbox\" ><label for=\"sk-estimator-id-25\" class=\"sk-toggleable__label sk-toggleable__label-arrow\">OrdinalEncoder</label><div class=\"sk-toggleable__content\"><pre>OrdinalEncoder(categories=[[&#x27;fair&#x27;, &#x27;good&#x27;, &#x27;excellent&#x27;, &#x27;like new&#x27;, &#x27;new&#x27;]])</pre></div></div></div></div></div></div><div class=\"sk-parallel-item\"><div class=\"sk-item\"><div class=\"sk-label-container\"><div class=\"sk-label sk-toggleable\"><input class=\"sk-toggleable__control sk-hidden--visually\" id=\"sk-estimator-id-26\" type=\"checkbox\" ><label for=\"sk-estimator-id-26\" class=\"sk-toggleable__label sk-toggleable__label-arrow\">onehotencoder</label><div class=\"sk-toggleable__content\"><pre>[&#x27;manufacturer&#x27;, &#x27;fuel&#x27;, &#x27;title_status&#x27;, &#x27;drive&#x27;, &#x27;size&#x27;, &#x27;type&#x27;, &#x27;paint_color&#x27;]</pre></div></div></div><div class=\"sk-serial\"><div class=\"sk-item\"><div class=\"sk-estimator sk-toggleable\"><input class=\"sk-toggleable__control sk-hidden--visually\" id=\"sk-estimator-id-27\" type=\"checkbox\" ><label for=\"sk-estimator-id-27\" class=\"sk-toggleable__label sk-toggleable__label-arrow\">OneHotEncoder</label><div class=\"sk-toggleable__content\"><pre>OneHotEncoder()</pre></div></div></div></div></div></div><div class=\"sk-parallel-item\"><div class=\"sk-item\"><div class=\"sk-label-container\"><div class=\"sk-label sk-toggleable\"><input class=\"sk-toggleable__control sk-hidden--visually\" id=\"sk-estimator-id-28\" type=\"checkbox\" ><label for=\"sk-estimator-id-28\" class=\"sk-toggleable__label sk-toggleable__label-arrow\">polynomialfeatures</label><div class=\"sk-toggleable__content\"><pre>[&#x27;year&#x27;, &#x27;cylinders&#x27;, &#x27;odometer&#x27;, &#x27;automatic&#x27;]</pre></div></div></div><div class=\"sk-serial\"><div class=\"sk-item\"><div class=\"sk-estimator sk-toggleable\"><input class=\"sk-toggleable__control sk-hidden--visually\" id=\"sk-estimator-id-29\" type=\"checkbox\" ><label for=\"sk-estimator-id-29\" class=\"sk-toggleable__label sk-toggleable__label-arrow\">PolynomialFeatures</label><div class=\"sk-toggleable__content\"><pre>PolynomialFeatures(degree=3, include_bias=False)</pre></div></div></div></div></div></div></div></div><div class=\"sk-item\"><div class=\"sk-estimator sk-toggleable\"><input class=\"sk-toggleable__control sk-hidden--visually\" id=\"sk-estimator-id-30\" type=\"checkbox\" ><label for=\"sk-estimator-id-30\" class=\"sk-toggleable__label sk-toggleable__label-arrow\">StandardScaler</label><div class=\"sk-toggleable__content\"><pre>StandardScaler()</pre></div></div></div><div class=\"sk-item\"><div class=\"sk-estimator sk-toggleable\"><input class=\"sk-toggleable__control sk-hidden--visually\" id=\"sk-estimator-id-31\" type=\"checkbox\" ><label for=\"sk-estimator-id-31\" class=\"sk-toggleable__label sk-toggleable__label-arrow\">LinearRegression</label><div class=\"sk-toggleable__content\"><pre>LinearRegression()</pre></div></div></div></div></div></div></div>"
      ],
      "text/plain": [
       "Pipeline(steps=[('transform',\n",
       "                 ColumnTransformer(transformers=[('ordinalencoder',\n",
       "                                                  OrdinalEncoder(categories=[['fair',\n",
       "                                                                              'good',\n",
       "                                                                              'excellent',\n",
       "                                                                              'like '\n",
       "                                                                              'new',\n",
       "                                                                              'new']]),\n",
       "                                                  ['condition']),\n",
       "                                                 ('onehotencoder',\n",
       "                                                  OneHotEncoder(),\n",
       "                                                  ['manufacturer', 'fuel',\n",
       "                                                   'title_status', 'drive',\n",
       "                                                   'size', 'type',\n",
       "                                                   'paint_color']),\n",
       "                                                 ('polynomialfeatures',\n",
       "                                                  PolynomialFeatures(degree=3,\n",
       "                                                                     include_bias=False),\n",
       "                                                  ['year', 'cylinders',\n",
       "                                                   'odometer',\n",
       "                                                   'automatic'])])),\n",
       "                ('scaler', StandardScaler()), ('linreg', LinearRegression())])"
      ]
     },
     "execution_count": 35,
     "metadata": {},
     "output_type": "execute_result"
    }
   ],
   "source": [
    "# setting up second pipeline and fitting the training data\n",
    "pipe2 = Pipeline([\n",
    "    ('transform', make_column_transformer(\n",
    "        (OrdinalEncoder(categories = [['fair', 'good', 'excellent', 'like new', 'new']]), ['condition']),\n",
    "        (OneHotEncoder(), ['manufacturer', 'fuel', 'title_status', 'drive', 'size', 'type', 'paint_color']),\n",
    "        (PolynomialFeatures(degree=3, include_bias=False), ['year', 'cylinders', 'odometer', 'automatic'])),\n",
    "    ), ('scaler', StandardScaler()), ('linreg', LinearRegression())\n",
    "])\n",
    "\n",
    "pipe2.fit(X_train, y_train)"
   ]
  },
  {
   "cell_type": "code",
   "execution_count": 36,
   "metadata": {},
   "outputs": [
    {
     "data": {
      "text/plain": [
       "0.8580621508074863"
      ]
     },
     "execution_count": 36,
     "metadata": {},
     "output_type": "execute_result"
    }
   ],
   "source": [
    "# calculating the second model's mse on the training set\n",
    "mean_squared_error(pipe2.predict(X_train), y_train)"
   ]
  },
  {
   "cell_type": "code",
   "execution_count": 37,
   "metadata": {},
   "outputs": [
    {
     "data": {
      "text/plain": [
       "0.9137945910058819"
      ]
     },
     "execution_count": 37,
     "metadata": {},
     "output_type": "execute_result"
    }
   ],
   "source": [
    "# calculating the second model's mse on the test set\n",
    "mean_squared_error(pipe2.predict(X_test), y_test)"
   ]
  },
  {
   "cell_type": "code",
   "execution_count": 38,
   "metadata": {},
   "outputs": [],
   "source": [
    "# getting second model's permutation importance\n",
    "result2 = permutation_importance(pipe2, X_train, y_train, n_repeats=10)"
   ]
  },
  {
   "cell_type": "code",
   "execution_count": 39,
   "metadata": {},
   "outputs": [
    {
     "data": {
      "text/plain": [
       "array([0.28047434, 0.02512013, 0.01687058, 0.08340197, 0.03155265,\n",
       "       0.04154532, 0.00110384, 0.00612179, 0.01877908, 0.00880078,\n",
       "       0.07852728, 0.0014877 ])"
      ]
     },
     "execution_count": 39,
     "metadata": {},
     "output_type": "execute_result"
    }
   ],
   "source": [
    "result2.importances_mean"
   ]
  },
  {
   "cell_type": "code",
   "execution_count": 40,
   "metadata": {},
   "outputs": [
    {
     "data": {
      "text/plain": [
       "Text(0.5, 1.0, 'Permutation Importance Means - LinReg')"
      ]
     },
     "execution_count": 40,
     "metadata": {},
     "output_type": "execute_result"
    },
    {
     "data": {
      "image/png": "[encoded data removed]",
      "text/plain": [
       "<Figure size 640x480 with 1 Axes>"
      ]
     },
     "metadata": {},
     "output_type": "display_data"
    }
   ],
   "source": [
    "# plotting permutation importance means for linreg model\n",
    "columns = ['year', 'manufacturer', 'condition', 'cylinders', 'fuel', 'odometer', 'title_status', 'automatic' ,'drive', 'size', 'type','paint_color']\n",
    "plt.bar(columns, result2.importances_mean)\n",
    "plt.xlabel('Features')\n",
    "plt.xticks(rotation=45)\n",
    "plt.title('Permutation Importance Means - LinReg')"
   ]
  },
  {
   "cell_type": "markdown",
   "metadata": {},
   "source": [
    "### Deployment\n",
    "\n",
    "Now that we've settled on our models and findings, it is time to deliver the information to the client.  You should organize your work as a basic report that details your primary findings.  Keep in mind that your audience is a group of used car dealers interested in fine tuning their inventory."
   ]
  },
  {
   "cell_type": "markdown",
   "metadata": {},
   "source": [
    "After training two different models to predict car pricing, these were the permutation importance values for each feature. Permutation importance measures the contribution of each feature to a model's performance. "
   ]
  },
  {
   "cell_type": "markdown",
   "metadata": {},
   "source": [
    "![](images/perm_imp.png)"
   ]
  },
  {
   "cell_type": "markdown",
   "metadata": {},
   "source": [
    "As we can see in this bar plot, the year in which the car was manufactured is the most important feature when it comes to determining its price. This is followed by the number of cylinders, the number of miles it has in its odometer, and the car's type.\n",
    "\n",
    "Now when it comes to seeing what specific combination of features affect the price negatively and positively, we can look at this data extracted from the same models:"
   ]
  },
  {
   "cell_type": "markdown",
   "metadata": {},
   "source": [
    "![](images/coefs.png)"
   ]
  },
  {
   "cell_type": "markdown",
   "metadata": {},
   "source": [
    "In this case, the largest positive and negative factors for price prediction are a combination of the year value and the number of cylinders. Thus, these are the most important features to take into account when determining the price for a used car."
   ]
  },
  {
   "cell_type": "code",
   "execution_count": null,
   "metadata": {},
   "outputs": [],
   "source": []
  },
  {
   "cell_type": "code",
   "execution_count": null,
   "metadata": {},
   "outputs": [],
   "source": []
  }
 ],
 "metadata": {
  "kernelspec": {
   "display_name": "Python 3 (ipykernel)",
   "language": "python",
   "name": "python3"
  },
  "language_info": {
   "codemirror_mode": {
    "name": "ipython",
    "version": 3
   },
   "file_extension": ".py",
   "mimetype": "text/x-python",
   "name": "python",
   "nbconvert_exporter": "python",
   "pygments_lexer": "ipython3",
   "version": "3.11.7"
  },
  "widgets": {
   "application/vnd.jupyter.widget-state+json": {
    "state": {},
    "version_major": 2,
    "version_minor": 0
   }
  }
 },
 "nbformat": 4,
 "nbformat_minor": 4
}
